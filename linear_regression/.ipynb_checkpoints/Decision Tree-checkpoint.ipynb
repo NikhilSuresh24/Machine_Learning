{
 "cells": [
  {
   "cell_type": "code",
   "execution_count": null,
   "metadata": {},
   "outputs": [],
   "source": [
    "# Using example code from http://scikit-learn.org/stable/modules/tree.html\n",
    "\n",
    "from sklearn.datasets import load_iris\n",
    "from sklearn import tree\n",
    "from sklearn.externals.six import StringIO\n",
    "import pydot\n",
    "import os.path\n",
    "import matplotlib.pyplot\n",
    "%pylab inline"
   ]
  },
  {
   "cell_type": "code",
   "execution_count": null,
   "metadata": {
    "collapsed": true
   },
   "outputs": [],
   "source": [
    "# Load the iris dataset\n",
    "iris = load_iris()"
   ]
  },
  {
   "cell_type": "code",
   "execution_count": null,
   "metadata": {},
   "outputs": [],
   "source": [
    "# Train the model\n",
    "model = tree.DecisionTreeClassifier()\n",
    "model.fit(iris.data, iris.target)"
   ]
  },
  {
   "cell_type": "code",
   "execution_count": null,
   "metadata": {},
   "outputs": [],
   "source": [
    "# create the flow chart visualizaton and write it to a PDF on the Desktop\n",
    "dot_data = StringIO()\n"
   ]
  },
  {
   "cell_type": "code",
   "execution_count": null,
   "metadata": {},
   "outputs": [],
   "source": [
    "tree.export_graphviz(model, out_file=dot_data, feature_names=iris.feature_names, class_names=iris.target_names,\n",
    "                     filled=True, rounded=True, special_characters=True)\n",
    "graph = pydot.graph_from_dot_data(dot_data.getvalue())[0]\n",
    "\n",
    "graph.write_pdf(os.path.expanduser(\"~/Desktop/iris_decision_tree.pdf\"))"
   ]
  },
  {
   "cell_type": "code",
   "execution_count": null,
   "metadata": {},
   "outputs": [],
   "source": [
    "# Plot two of the features (the first and fourth columns, in this case)\n",
    "X_INDEX = 0\n",
    "Y_INDEX = 3\n",
    "\n",
    "x = iris.data[:,X_INDEX]\n",
    "y = iris.data[:,Y_INDEX]\n",
    "\n",
    "# The data are in order by type. Find out where the other types start\n",
    "start_type_one = list(iris.target).index(1)\n",
    "start_type_two = list(iris.target).index(2)\n",
    "\n",
    "# put the input data on the graph, with different colors and shapes for each type\n",
    "matplotlib.pyplot.scatter(x[:start_type_one], y[:start_type_one], c=\"red\", marker=\"o\")\n",
    "matplotlib.pyplot.scatter(x[start_type_one:start_type_two], y[start_type_one:start_type_two], c=\"blue\", marker=\"^\")\n",
    "matplotlib.pyplot.scatter(x[start_type_two:], y[start_type_two:], c=\"yellow\", marker=\"*\")\n",
    "\n",
    "# Label the axes\n",
    "matplotlib.pyplot.xlabel(iris.feature_names[X_INDEX])\n",
    "matplotlib.pyplot.ylabel(iris.feature_names[Y_INDEX])\n",
    "\n",
    "matplotlib.pyplot.show()"
   ]
  },
  {
   "cell_type": "code",
   "execution_count": null,
   "metadata": {
    "collapsed": true
   },
   "outputs": [],
   "source": []
  }
 ],
 "metadata": {
  "kernelspec": {
   "display_name": "Python 3",
   "language": "python",
   "name": "python3"
  },
  "language_info": {
   "codemirror_mode": {
    "name": "ipython",
    "version": 3
   },
   "file_extension": ".py",
   "mimetype": "text/x-python",
   "name": "python",
   "nbconvert_exporter": "python",
   "pygments_lexer": "ipython3",
   "version": "3.5.2"
  }
 },
 "nbformat": 4,
 "nbformat_minor": 2
}
