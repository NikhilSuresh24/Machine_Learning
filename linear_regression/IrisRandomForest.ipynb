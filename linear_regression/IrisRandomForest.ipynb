{
 "cells": [
  {
   "cell_type": "code",
   "execution_count": 140,
   "metadata": {},
   "outputs": [
    {
     "name": "stdout",
     "output_type": "stream",
     "text": [
      "Populating the interactive namespace from numpy and matplotlib\n"
     ]
    },
    {
     "name": "stderr",
     "output_type": "stream",
     "text": [
      "/Library/Frameworks/Python.framework/Versions/3.6/lib/python3.6/site-packages/IPython/core/magics/pylab.py:160: UserWarning: pylab import has clobbered these variables: ['sample']\n",
      "`%matplotlib` prevents importing * from pylab and numpy\n",
      "  \"\\n`%matplotlib` prevents importing * from pylab and numpy\"\n"
     ]
    }
   ],
   "source": [
    "from sklearn.datasets import load_iris\n",
    "from sklearn.ensemble import RandomForestClassifier\n",
    "from sklearn import tree\n",
    "from sklearn.externals.six import StringIO\n",
    "import pydot\n",
    "import os.path\n",
    "from sklearn.metrics import accuracy_score\n",
    "import numpy.random\n",
    "%pylab inline"
   ]
  },
  {
   "cell_type": "code",
   "execution_count": 194,
   "metadata": {},
   "outputs": [
    {
     "name": "stdout",
     "output_type": "stream",
     "text": [
      "0.8999999999999991\n"
     ]
    }
   ],
   "source": [
    "#Calculates the average of 50 decision trees --> random forest\n",
    "#Sepal Length, Sepal Width, Petal Length, Sepal Width\n",
    "iris = load_iris()\n",
    "forestSum = 0 # sum of trees\n",
    "treeCount = 50 \n",
    "iterator =0 \n",
    "sample = 100 # 2/3 of dataset\n",
    "correctCount = 0\n",
    "incorrectCount = 0\n",
    "randIris = [] # random subset of Iris\n",
    "chosenIndices =[]\n",
    "randTarget = []\n",
    "for i in range(treeCount): # find probability from each tree\n",
    "    while iterator < sample: # choose 100 random arrays from iris data to analyze\n",
    "        random_indice = randint(0, 149)\n",
    "        if random_indice not in chosenIndices: #make sure same array isn't put in twice\n",
    "            chosenIndices.append(random_indice)\n",
    "            randIris.append(iris.data[random_indice])\n",
    "            iterator += 1\n",
    "            randTarget.append(iris.target[random_indice])\n",
    "    iterator = 0         \n",
    "    model = tree.DecisionTreeClassifier()\n",
    "    model.fit(randIris, randTarget)\n",
    "    newTarget = np.array(randTarget).reshape(-1, 1) # make 2D array\n",
    "    while iterator < sample: # checks if prediction is correct\n",
    "        prediction = int(round(randIris[iterator][argmin(randIris[iterator])]))\n",
    "        target = newTarget[iterator]\n",
    "        if (prediction == target):\n",
    "            correctCount += 1\n",
    "        else:\n",
    "            incorrectCount += 1\n",
    "        iterator+=1\n",
    "    percentage = (correctCount/(correctCount + incorrectCount))\n",
    "    forestSum += percentage\n",
    "forestAvg = forestSum/treeCount\n",
    "print(forestAvg)"
   ]
  },
  {
   "cell_type": "code",
   "execution_count": null,
   "metadata": {
    "collapsed": true
   },
   "outputs": [],
   "source": []
  },
  {
   "cell_type": "code",
   "execution_count": null,
   "metadata": {
    "collapsed": true
   },
   "outputs": [],
   "source": []
  }
 ],
 "metadata": {
  "kernelspec": {
   "display_name": "Python 3",
   "language": "python",
   "name": "python3"
  }
 },
 "nbformat": 4,
 "nbformat_minor": 2
}
