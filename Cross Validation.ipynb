{
 "cells": [
  {
   "cell_type": "code",
   "execution_count": 2,
   "metadata": {},
   "outputs": [
    {
     "name": "stdout",
     "output_type": "stream",
     "text": [
      "Populating the interactive namespace from numpy and matplotlib\n"
     ]
    },
    {
     "name": "stderr",
     "output_type": "stream",
     "text": [
      "/Library/Frameworks/Python.framework/Versions/3.6/lib/python3.6/site-packages/statsmodels/compat/pandas.py:56: FutureWarning: The pandas.core.datetools module is deprecated and will be removed in a future version. Please use the pandas.tseries module instead.\n",
      "  from pandas.core import datetools\n",
      "/Library/Frameworks/Python.framework/Versions/3.6/lib/python3.6/site-packages/sklearn/cross_validation.py:41: DeprecationWarning: This module was deprecated in version 0.18 in favor of the model_selection module into which all the refactored classes and functions are moved. Also note that the interface of the new CV iterators are different from that of this module. This module will be removed in 0.20.\n",
      "  \"This module will be removed in 0.20.\", DeprecationWarning)\n"
     ]
    }
   ],
   "source": [
    "import pandas as pd\n",
    "%pylab inline\n",
    "import numpy as np\n",
    "import statsmodels.api as sm\n",
    "from patsy import dmatrices \n",
    "from sklearn.linear_model import LogisticRegression\n",
    "from sklearn.cross_validation import train_test_split\n",
    "from sklearn import metrics\n",
    "from sklearn.cross_validation import cross_val_score"
   ]
  },
  {
   "cell_type": "code",
   "execution_count": 3,
   "metadata": {
    "collapsed": true
   },
   "outputs": [],
   "source": [
    "data = pd.read_csv(\"~/Downloads/student/student-mat.csv\",sep=';')"
   ]
  },
  {
   "cell_type": "code",
   "execution_count": 4,
   "metadata": {
    "collapsed": true
   },
   "outputs": [],
   "source": [
    "#create avg grade column\n",
    "data['avg_grade'] = round((data['G1']+data['G2']+data['G3'])/3,0)"
   ]
  },
  {
   "cell_type": "code",
   "execution_count": 74,
   "metadata": {},
   "outputs": [
    {
     "data": {
      "text/html": [
       "<div>\n",
       "<style>\n",
       "    .dataframe thead tr:only-child th {\n",
       "        text-align: right;\n",
       "    }\n",
       "\n",
       "    .dataframe thead th {\n",
       "        text-align: left;\n",
       "    }\n",
       "\n",
       "    .dataframe tbody tr th {\n",
       "        vertical-align: top;\n",
       "    }\n",
       "</style>\n",
       "<table border=\"1\" class=\"dataframe\">\n",
       "  <thead>\n",
       "    <tr style=\"text-align: right;\">\n",
       "      <th></th>\n",
       "      <th>0-78</th>\n",
       "      <th>158-236</th>\n",
       "      <th>237-315</th>\n",
       "      <th>316-395</th>\n",
       "      <th>79-157</th>\n",
       "      <th>Average</th>\n",
       "    </tr>\n",
       "  </thead>\n",
       "  <tbody>\n",
       "    <tr>\n",
       "      <th>Model Score</th>\n",
       "      <td>0.835443</td>\n",
       "      <td>0.854430379747</td>\n",
       "      <td>0.835443037975</td>\n",
       "      <td>0.78164556962</td>\n",
       "      <td>0.924050632911</td>\n",
       "      <td>0.846202531646</td>\n",
       "    </tr>\n",
       "    <tr>\n",
       "      <th>Accuracy Score</th>\n",
       "      <td>0.768987</td>\n",
       "      <td>0.759493670886</td>\n",
       "      <td>0.753164556962</td>\n",
       "      <td>0.772151898734</td>\n",
       "      <td>0.73417721519</td>\n",
       "      <td>0.757594936709</td>\n",
       "    </tr>\n",
       "  </tbody>\n",
       "</table>\n",
       "</div>"
      ],
      "text/plain": [
       "                    0-78         158-236         237-315         316-395  \\\n",
       "Model Score     0.835443  0.854430379747  0.835443037975   0.78164556962   \n",
       "Accuracy Score  0.768987  0.759493670886  0.753164556962  0.772151898734   \n",
       "\n",
       "                        79-157         Average  \n",
       "Model Score     0.924050632911  0.846202531646  \n",
       "Accuracy Score   0.73417721519  0.757594936709  "
      ]
     },
     "execution_count": 74,
     "metadata": {},
     "output_type": "execute_result"
    }
   ],
   "source": [
    "scores = []\n",
    "accuracies = []\n",
    "for folds in range(5):#repeats process for each test group\n",
    "    start = int(79*folds)\n",
    "    end = int(79*(i+folds))\n",
    "    \n",
    "    #puts together training set\n",
    "    frames = [data.iloc[0:start][['failures','Medu', 'Fedu', 'traveltime','studytime','freetime', 'famrel','goout','Dalc','Walc','health','absences','avg_grade']],data.iloc[end:395][['failures','Medu', 'Fedu', 'traveltime','studytime','freetime', 'famrel','goout','Dalc','Walc','health','absences','avg_grade']]]\n",
    "    modelData = pd.concat(frames)\n",
    "    \n",
    "    #testing set\n",
    "    testData = data.iloc[start:end][['failures','Medu', 'Fedu', 'traveltime','studytime','freetime', 'famrel','goout','Dalc','Walc','health','absences','avg_grade']]\n",
    "    \n",
    "    #creating dataframes for variables\n",
    "    y,X = dmatrices('failures~ Medu + Fedu + traveltime + studytime + famrel + freetime + goout + Dalc + Walc + health + absences + avg_grade', modelData, return_type = 'dataframe')\n",
    "    \n",
    "    #flatten y into a 1-D array\n",
    "    y = np.ravel(y)\n",
    "    \n",
    "    #Fit model\n",
    "    model = LogisticRegression()\n",
    "    model = model.fit(X,y)\n",
    "    \n",
    "    #check model accuracy on training data\n",
    "    scores.append(model.score(X,y))\n",
    "    \n",
    "    #check model acurracy on test data\n",
    "    prediction = model.predict(testData)\n",
    "    expected = testData.iloc[:]['failures']\n",
    "    accuracies.append(metrics.accuracy_score(expected,prediction))\n",
    "    \n",
    "#create dataframe to display findings\n",
    "df = pd.DataFrame({'0-78':pd.Series([scores[0],accuracies[0]], index=['Model Score', 'Accuracy Score']),\n",
    "      '79-157':pd.Series([str(scores[1]),str(accuracies[1])],index=['Model Score', 'Accuracy Score']),\n",
    "      '158-236':pd.Series([str(scores[2]),str(accuracies[2])], index=['Model Score', 'Accuracy Score']),\n",
    "      '237-315':pd.Series([str(scores[3]), str(accuracies[3])], index=['Model Score', 'Accuracy Score']),\n",
    "      '316-395':pd.Series([str(scores[4]), str(accuracies[4])],index=['Model Score', 'Accuracy Score']),\n",
    "      'Average':pd.Series([str(mean(scores)),str(mean(accuracies))],index=['Model Score', 'Accuracy Score'])})\n",
    "df\n",
    "    "
   ]
  },
  {
   "cell_type": "code",
   "execution_count": null,
   "metadata": {
    "collapsed": true
   },
   "outputs": [],
   "source": []
  }
 ],
 "metadata": {
  "kernelspec": {
   "display_name": "Python 3",
   "language": "python",
   "name": "python3"
  },
  "language_info": {
   "codemirror_mode": {
    "name": "ipython",
    "version": 3
   },
   "file_extension": ".py",
   "mimetype": "text/x-python",
   "name": "python",
   "nbconvert_exporter": "python",
   "pygments_lexer": "ipython3",
   "version": "3.6.2"
  }
 },
 "nbformat": 4,
 "nbformat_minor": 2
}
